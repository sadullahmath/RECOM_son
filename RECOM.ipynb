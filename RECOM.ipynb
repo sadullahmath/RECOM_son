{
 "cells": [
  {
   "cell_type": "code",
   "execution_count": 1,
   "id": "60de9d4c",
   "metadata": {},
   "outputs": [],
   "source": [
    "import numpy as np\n",
    "import pandas as pd\n",
    "import matplotlib.pyplot as plt\n",
    "import seaborn as sns\n",
    "plt.rcParams[\"figure.figsize\"] = (10,6)\n",
    "pd.set_option('display.max_columns', 100)\n",
    "import datetime as dt\n",
    "from sklearn.cluster import KMeans\n",
    "from sklearn.metrics import silhouette_score"
   ]
  },
  {
   "cell_type": "code",
   "execution_count": 2,
   "id": "6ee294ff",
   "metadata": {},
   "outputs": [],
   "source": [
    "df=pd.read_csv('recom.csv')"
   ]
  },
  {
   "cell_type": "code",
   "execution_count": 3,
   "id": "48ad1969",
   "metadata": {},
   "outputs": [
    {
     "data": {
      "text/html": [
       "<div>\n",
       "<style scoped>\n",
       "    .dataframe tbody tr th:only-of-type {\n",
       "        vertical-align: middle;\n",
       "    }\n",
       "\n",
       "    .dataframe tbody tr th {\n",
       "        vertical-align: top;\n",
       "    }\n",
       "\n",
       "    .dataframe thead th {\n",
       "        text-align: right;\n",
       "    }\n",
       "</style>\n",
       "<table border=\"1\" class=\"dataframe\">\n",
       "  <thead>\n",
       "    <tr style=\"text-align: right;\">\n",
       "      <th></th>\n",
       "      <th>Unnamed: 0</th>\n",
       "      <th>Main_ID</th>\n",
       "      <th>Transaction_ID</th>\n",
       "      <th>Date</th>\n",
       "      <th>Price</th>\n",
       "      <th>Code_Product</th>\n",
       "      <th>Amount</th>\n",
       "      <th>ItemKey</th>\n",
       "    </tr>\n",
       "  </thead>\n",
       "  <tbody>\n",
       "    <tr>\n",
       "      <th>0</th>\n",
       "      <td>0</td>\n",
       "      <td>90fada91</td>\n",
       "      <td>264f7a69</td>\n",
       "      <td>2022-10-07 20:53:49.153</td>\n",
       "      <td>125.0</td>\n",
       "      <td>5002.0</td>\n",
       "      <td>1.0</td>\n",
       "      <td>5002.0</td>\n",
       "    </tr>\n",
       "    <tr>\n",
       "      <th>1</th>\n",
       "      <td>1</td>\n",
       "      <td>9006f9ac</td>\n",
       "      <td>45c7d853</td>\n",
       "      <td>2022-09-17 15:54:57.187</td>\n",
       "      <td>19.0</td>\n",
       "      <td>35012.0</td>\n",
       "      <td>1.0</td>\n",
       "      <td>NaN</td>\n",
       "    </tr>\n",
       "    <tr>\n",
       "      <th>2</th>\n",
       "      <td>2</td>\n",
       "      <td>32270891</td>\n",
       "      <td>61ad76dd</td>\n",
       "      <td>2022-11-28 13:51:55.667</td>\n",
       "      <td>141.0</td>\n",
       "      <td>5005.0</td>\n",
       "      <td>1.0</td>\n",
       "      <td>5005.0</td>\n",
       "    </tr>\n",
       "    <tr>\n",
       "      <th>3</th>\n",
       "      <td>3</td>\n",
       "      <td>97e03e47</td>\n",
       "      <td>41ee09f6</td>\n",
       "      <td>2022-09-12 16:20:22.110</td>\n",
       "      <td>4.5</td>\n",
       "      <td>35078.5</td>\n",
       "      <td>1.0</td>\n",
       "      <td>NaN</td>\n",
       "    </tr>\n",
       "    <tr>\n",
       "      <th>4</th>\n",
       "      <td>4</td>\n",
       "      <td>41949228</td>\n",
       "      <td>244fe6d8</td>\n",
       "      <td>2022-10-14 18:53:43.933</td>\n",
       "      <td>129.5</td>\n",
       "      <td>49291.5</td>\n",
       "      <td>5.0</td>\n",
       "      <td>NaN</td>\n",
       "    </tr>\n",
       "  </tbody>\n",
       "</table>\n",
       "</div>"
      ],
      "text/plain": [
       "   Unnamed: 0   Main_ID Transaction_ID                     Date  Price  \\\n",
       "0           0  90fada91       264f7a69  2022-10-07 20:53:49.153  125.0   \n",
       "1           1  9006f9ac       45c7d853  2022-09-17 15:54:57.187   19.0   \n",
       "2           2  32270891       61ad76dd  2022-11-28 13:51:55.667  141.0   \n",
       "3           3  97e03e47       41ee09f6  2022-09-12 16:20:22.110    4.5   \n",
       "4           4  41949228       244fe6d8  2022-10-14 18:53:43.933  129.5   \n",
       "\n",
       "   Code_Product  Amount  ItemKey  \n",
       "0        5002.0     1.0   5002.0  \n",
       "1       35012.0     1.0      NaN  \n",
       "2        5005.0     1.0   5005.0  \n",
       "3       35078.5     1.0      NaN  \n",
       "4       49291.5     5.0      NaN  "
      ]
     },
     "execution_count": 3,
     "metadata": {},
     "output_type": "execute_result"
    }
   ],
   "source": [
    "df.head()"
   ]
  },
  {
   "cell_type": "code",
   "execution_count": 4,
   "id": "bbe78311",
   "metadata": {},
   "outputs": [],
   "source": [
    "df = pd.read_csv('recom.csv', usecols=lambda column: column not in ['Unnamed: 0', 'ItemKey'])"
   ]
  },
  {
   "cell_type": "code",
   "execution_count": 5,
   "id": "cc8d2855",
   "metadata": {},
   "outputs": [
    {
     "name": "stdout",
     "output_type": "stream",
     "text": [
      "<class 'pandas.core.frame.DataFrame'>\n",
      "RangeIndex: 50000 entries, 0 to 49999\n",
      "Data columns (total 6 columns):\n",
      " #   Column          Non-Null Count  Dtype  \n",
      "---  ------          --------------  -----  \n",
      " 0   Main_ID         50000 non-null  object \n",
      " 1   Transaction_ID  50000 non-null  object \n",
      " 2   Date            50000 non-null  object \n",
      " 3   Price           50000 non-null  float64\n",
      " 4   Code_Product    50000 non-null  float64\n",
      " 5   Amount          50000 non-null  float64\n",
      "dtypes: float64(3), object(3)\n",
      "memory usage: 2.3+ MB\n"
     ]
    }
   ],
   "source": [
    "df.info()"
   ]
  },
  {
   "cell_type": "code",
   "execution_count": 6,
   "id": "3b0c8683",
   "metadata": {},
   "outputs": [],
   "source": [
    "#Toplam harcamayi Column olarak ekliyoruz\n",
    "df['TotalPrice']=df['Amount']*df['Price']"
   ]
  },
  {
   "cell_type": "code",
   "execution_count": 7,
   "id": "87ca7178",
   "metadata": {},
   "outputs": [],
   "source": [
    "#siparis tarihinin veri tipini degistiriyoruz\n",
    "df['Date']=pd.to_datetime(df['Date'])"
   ]
  },
  {
   "cell_type": "code",
   "execution_count": 8,
   "id": "2c41bc38",
   "metadata": {},
   "outputs": [
    {
     "name": "stdout",
     "output_type": "stream",
     "text": [
      "2023-01-01 00:00:00\n"
     ]
    }
   ],
   "source": [
    "# bugunu/ analiz tarihini degisken olarak atiyoruz.\n",
    "today= dt.datetime(2023,1,1)\n",
    "print(today)"
   ]
  },
  {
   "cell_type": "code",
   "execution_count": 9,
   "id": "af7f7e6a",
   "metadata": {},
   "outputs": [
    {
     "data": {
      "text/html": [
       "<div>\n",
       "<style scoped>\n",
       "    .dataframe tbody tr th:only-of-type {\n",
       "        vertical-align: middle;\n",
       "    }\n",
       "\n",
       "    .dataframe tbody tr th {\n",
       "        vertical-align: top;\n",
       "    }\n",
       "\n",
       "    .dataframe thead th {\n",
       "        text-align: right;\n",
       "    }\n",
       "</style>\n",
       "<table border=\"1\" class=\"dataframe\">\n",
       "  <thead>\n",
       "    <tr style=\"text-align: right;\">\n",
       "      <th></th>\n",
       "      <th>count</th>\n",
       "      <th>mean</th>\n",
       "      <th>std</th>\n",
       "      <th>min</th>\n",
       "      <th>25%</th>\n",
       "      <th>50%</th>\n",
       "      <th>75%</th>\n",
       "      <th>max</th>\n",
       "    </tr>\n",
       "  </thead>\n",
       "  <tbody>\n",
       "    <tr>\n",
       "      <th>Price</th>\n",
       "      <td>50000.0</td>\n",
       "      <td>62.56067</td>\n",
       "      <td>68.269624</td>\n",
       "      <td>0.5</td>\n",
       "      <td>24.5</td>\n",
       "      <td>45.5</td>\n",
       "      <td>83.0</td>\n",
       "      <td>2525.5</td>\n",
       "    </tr>\n",
       "    <tr>\n",
       "      <th>Code_Product</th>\n",
       "      <td>50000.0</td>\n",
       "      <td>32379.29354</td>\n",
       "      <td>21697.500334</td>\n",
       "      <td>5000.5</td>\n",
       "      <td>10013.0</td>\n",
       "      <td>40009.5</td>\n",
       "      <td>49291.5</td>\n",
       "      <td>350027.5</td>\n",
       "    </tr>\n",
       "    <tr>\n",
       "      <th>Amount</th>\n",
       "      <td>50000.0</td>\n",
       "      <td>1.23264</td>\n",
       "      <td>0.749353</td>\n",
       "      <td>1.0</td>\n",
       "      <td>1.0</td>\n",
       "      <td>1.0</td>\n",
       "      <td>1.0</td>\n",
       "      <td>54.0</td>\n",
       "    </tr>\n",
       "    <tr>\n",
       "      <th>TotalPrice</th>\n",
       "      <td>50000.0</td>\n",
       "      <td>89.22196</td>\n",
       "      <td>371.822461</td>\n",
       "      <td>0.5</td>\n",
       "      <td>25.5</td>\n",
       "      <td>48.0</td>\n",
       "      <td>95.5</td>\n",
       "      <td>37026.0</td>\n",
       "    </tr>\n",
       "  </tbody>\n",
       "</table>\n",
       "</div>"
      ],
      "text/plain": [
       "                count         mean           std     min      25%      50%  \\\n",
       "Price         50000.0     62.56067     68.269624     0.5     24.5     45.5   \n",
       "Code_Product  50000.0  32379.29354  21697.500334  5000.5  10013.0  40009.5   \n",
       "Amount        50000.0      1.23264      0.749353     1.0      1.0      1.0   \n",
       "TotalPrice    50000.0     89.22196    371.822461     0.5     25.5     48.0   \n",
       "\n",
       "                  75%       max  \n",
       "Price            83.0    2525.5  \n",
       "Code_Product  49291.5  350027.5  \n",
       "Amount            1.0      54.0  \n",
       "TotalPrice       95.5   37026.0  "
      ]
     },
     "execution_count": 9,
     "metadata": {},
     "output_type": "execute_result"
    }
   ],
   "source": [
    "df.describe().T"
   ]
  },
  {
   "cell_type": "code",
   "execution_count": 10,
   "id": "bb156062",
   "metadata": {},
   "outputs": [],
   "source": [
    "# minimumu 0 olan deger yok.. silmeye gerek yok!"
   ]
  },
  {
   "cell_type": "code",
   "execution_count": 11,
   "id": "0031bb4a",
   "metadata": {},
   "outputs": [],
   "source": [
    "# Recency ve Monetary degerlerini bulalim\n",
    "df_x=df.groupby('Main_ID').agg({'TotalPrice': lambda x: x.sum(),'Date':lambda x: (today-x.max()).days})"
   ]
  },
  {
   "cell_type": "code",
   "execution_count": 12,
   "id": "5e446f8a",
   "metadata": {},
   "outputs": [],
   "source": [
    "#Transaction_ID code halinde oldugu icin Transaction_ID'yi (Invoice) unique hale getiriyoruz.\n",
    "df_y=df.groupby(['Main_ID','Transaction_ID']).agg({'TotalPrice': lambda x: x.sum()})"
   ]
  },
  {
   "cell_type": "code",
   "execution_count": 13,
   "id": "fcb62285",
   "metadata": {},
   "outputs": [],
   "source": [
    "# saydirdigimizda Transaction_ID unique halde gelmis oluyor.\n",
    "df_z=df.groupby('Main_ID').agg({'TotalPrice': lambda x: len(x)})"
   ]
  },
  {
   "cell_type": "code",
   "execution_count": 14,
   "id": "c54b4ea3",
   "metadata": {},
   "outputs": [],
   "source": [
    "#RFM tablosuna ulasmis oluyoruz\n",
    "rfm_table = pd.merge(df_x, df_z, on='Main_ID')\n"
   ]
  },
  {
   "cell_type": "code",
   "execution_count": 15,
   "id": "66108756",
   "metadata": {},
   "outputs": [],
   "source": [
    "#column isimlerini belirliyoruz\n",
    "rfm_table.rename(columns={'Date': 'Recency',\n",
    "                          'TotalPrice_x':'Monetary',\n",
    "                          'TotalPrice_y':'Frequency'},inplace=True)"
   ]
  },
  {
   "cell_type": "code",
   "execution_count": 16,
   "id": "0c06ca01",
   "metadata": {},
   "outputs": [
    {
     "data": {
      "text/html": [
       "<div>\n",
       "<style scoped>\n",
       "    .dataframe tbody tr th:only-of-type {\n",
       "        vertical-align: middle;\n",
       "    }\n",
       "\n",
       "    .dataframe tbody tr th {\n",
       "        vertical-align: top;\n",
       "    }\n",
       "\n",
       "    .dataframe thead th {\n",
       "        text-align: right;\n",
       "    }\n",
       "</style>\n",
       "<table border=\"1\" class=\"dataframe\">\n",
       "  <thead>\n",
       "    <tr style=\"text-align: right;\">\n",
       "      <th></th>\n",
       "      <th>Monetary</th>\n",
       "      <th>Recency</th>\n",
       "      <th>Frequency</th>\n",
       "    </tr>\n",
       "    <tr>\n",
       "      <th>Main_ID</th>\n",
       "      <th></th>\n",
       "      <th></th>\n",
       "      <th></th>\n",
       "    </tr>\n",
       "  </thead>\n",
       "  <tbody>\n",
       "    <tr>\n",
       "      <th>00024de6</th>\n",
       "      <td>12.0</td>\n",
       "      <td>119</td>\n",
       "      <td>1.0</td>\n",
       "    </tr>\n",
       "    <tr>\n",
       "      <th>00084856</th>\n",
       "      <td>46.0</td>\n",
       "      <td>56</td>\n",
       "      <td>2.0</td>\n",
       "    </tr>\n",
       "    <tr>\n",
       "      <th>0008e848</th>\n",
       "      <td>13.0</td>\n",
       "      <td>109</td>\n",
       "      <td>1.0</td>\n",
       "    </tr>\n",
       "    <tr>\n",
       "      <th>00096930</th>\n",
       "      <td>96.0</td>\n",
       "      <td>36</td>\n",
       "      <td>1.0</td>\n",
       "    </tr>\n",
       "    <tr>\n",
       "      <th>000c66b7</th>\n",
       "      <td>62.0</td>\n",
       "      <td>116</td>\n",
       "      <td>2.0</td>\n",
       "    </tr>\n",
       "  </tbody>\n",
       "</table>\n",
       "</div>"
      ],
      "text/plain": [
       "          Monetary  Recency  Frequency\n",
       "Main_ID                               \n",
       "00024de6      12.0      119        1.0\n",
       "00084856      46.0       56        2.0\n",
       "0008e848      13.0      109        1.0\n",
       "00096930      96.0       36        1.0\n",
       "000c66b7      62.0      116        2.0"
      ]
     },
     "execution_count": 16,
     "metadata": {},
     "output_type": "execute_result"
    }
   ],
   "source": [
    "rfm_table.head()"
   ]
  },
  {
   "cell_type": "code",
   "execution_count": 17,
   "id": "b7671f6c",
   "metadata": {},
   "outputs": [
    {
     "data": {
      "text/html": [
       "<div>\n",
       "<style scoped>\n",
       "    .dataframe tbody tr th:only-of-type {\n",
       "        vertical-align: middle;\n",
       "    }\n",
       "\n",
       "    .dataframe tbody tr th {\n",
       "        vertical-align: top;\n",
       "    }\n",
       "\n",
       "    .dataframe thead th {\n",
       "        text-align: right;\n",
       "    }\n",
       "</style>\n",
       "<table border=\"1\" class=\"dataframe\">\n",
       "  <thead>\n",
       "    <tr style=\"text-align: right;\">\n",
       "      <th></th>\n",
       "      <th>Monetary</th>\n",
       "      <th>Recency</th>\n",
       "      <th>Frequency</th>\n",
       "      <th>Freq_Tile</th>\n",
       "      <th>Rec_Tile</th>\n",
       "      <th>Mone_Tile</th>\n",
       "      <th>RFM Score</th>\n",
       "    </tr>\n",
       "    <tr>\n",
       "      <th>Main_ID</th>\n",
       "      <th></th>\n",
       "      <th></th>\n",
       "      <th></th>\n",
       "      <th></th>\n",
       "      <th></th>\n",
       "      <th></th>\n",
       "      <th></th>\n",
       "    </tr>\n",
       "  </thead>\n",
       "  <tbody>\n",
       "    <tr>\n",
       "      <th>6558ca78</th>\n",
       "      <td>208.5</td>\n",
       "      <td>28</td>\n",
       "      <td>8.0</td>\n",
       "      <td>5</td>\n",
       "      <td>1</td>\n",
       "      <td>5</td>\n",
       "      <td>155</td>\n",
       "    </tr>\n",
       "    <tr>\n",
       "      <th>80851dc3</th>\n",
       "      <td>24.5</td>\n",
       "      <td>28</td>\n",
       "      <td>1.0</td>\n",
       "      <td>1</td>\n",
       "      <td>1</td>\n",
       "      <td>1</td>\n",
       "      <td>111</td>\n",
       "    </tr>\n",
       "    <tr>\n",
       "      <th>387aecb7</th>\n",
       "      <td>83.5</td>\n",
       "      <td>28</td>\n",
       "      <td>1.0</td>\n",
       "      <td>1</td>\n",
       "      <td>1</td>\n",
       "      <td>4</td>\n",
       "      <td>114</td>\n",
       "    </tr>\n",
       "    <tr>\n",
       "      <th>a70f5f11</th>\n",
       "      <td>412.0</td>\n",
       "      <td>28</td>\n",
       "      <td>4.0</td>\n",
       "      <td>5</td>\n",
       "      <td>1</td>\n",
       "      <td>5</td>\n",
       "      <td>155</td>\n",
       "    </tr>\n",
       "    <tr>\n",
       "      <th>27aa514e</th>\n",
       "      <td>2426.5</td>\n",
       "      <td>28</td>\n",
       "      <td>12.0</td>\n",
       "      <td>5</td>\n",
       "      <td>1</td>\n",
       "      <td>5</td>\n",
       "      <td>155</td>\n",
       "    </tr>\n",
       "  </tbody>\n",
       "</table>\n",
       "</div>"
      ],
      "text/plain": [
       "          Monetary  Recency  Frequency  Freq_Tile  Rec_Tile  Mone_Tile  \\\n",
       "Main_ID                                                                  \n",
       "6558ca78     208.5       28        8.0          5         1          5   \n",
       "80851dc3      24.5       28        1.0          1         1          1   \n",
       "387aecb7      83.5       28        1.0          1         1          4   \n",
       "a70f5f11     412.0       28        4.0          5         1          5   \n",
       "27aa514e    2426.5       28       12.0          5         1          5   \n",
       "\n",
       "         RFM Score  \n",
       "Main_ID             \n",
       "6558ca78       155  \n",
       "80851dc3       111  \n",
       "387aecb7       114  \n",
       "a70f5f11       155  \n",
       "27aa514e       155  "
      ]
     },
     "execution_count": 17,
     "metadata": {},
     "output_type": "execute_result"
    }
   ],
   "source": [
    "#Frequency bulma\n",
    "def FScore(x,p,d):\n",
    "    if x<=d[p][0.20]:\n",
    "        return 0\n",
    "    elif x<=d[p][0.40]:\n",
    "        return 1\n",
    "    elif x<=d[p][0.60]:\n",
    "        return 2\n",
    "    elif x<=d[p][0.80]:\n",
    "        return 3\n",
    "    else:\n",
    "        return 4\n",
    "    \n",
    "    \n",
    "quantiles= rfm_table.quantile(q=[0.20, 0.40, 0.60, 0.80])\n",
    "quantiles=quantiles.to_dict()\n",
    "rfm_table['Freq_Tile']=rfm_table['Frequency'].apply(FScore, args=('Frequency',quantiles))\n",
    "#Recency bulma\n",
    "rfm_table= rfm_table.sort_values('Recency', ascending=True)\n",
    "rfm_table['Rec_Tile']=pd.qcut(rfm_table['Recency'],5,labels=False)\n",
    "\n",
    "#Monetary bulma\n",
    "# rfm_table= rfm_table.sort_values('Monetary', ascending=True)\n",
    "rfm_table['Mone_Tile']=pd.qcut(rfm_table['Monetary'],5,labels=False)\n",
    "\n",
    "# '0' degeri yer almasin istiyorsak, buldugumuz degerleri 1 artiririz\n",
    "rfm_table['Rec_Tile']=rfm_table['Rec_Tile'] +1\n",
    "rfm_table['Freq_Tile']=rfm_table['Freq_Tile']+1\n",
    "rfm_table['Mone_Tile']=rfm_table['Mone_Tile']+1\n",
    "\n",
    "#buldugumuz degerleri birlestirip tek 1 skor elde ediyoruz.\n",
    "rfm_table['RFM Score']=rfm_table['Rec_Tile'].map(str)+rfm_table['Freq_Tile'].map(str)+rfm_table['Mone_Tile'].map(str)\n",
    "\n",
    "rfm_table.head()\n",
    "\n",
    "\n",
    "\n",
    "    "
   ]
  },
  {
   "cell_type": "code",
   "execution_count": 22,
   "id": "b742f688",
   "metadata": {},
   "outputs": [
    {
     "data": {
      "text/html": [
       "<div>\n",
       "<style scoped>\n",
       "    .dataframe tbody tr th:only-of-type {\n",
       "        vertical-align: middle;\n",
       "    }\n",
       "\n",
       "    .dataframe tbody tr th {\n",
       "        vertical-align: top;\n",
       "    }\n",
       "\n",
       "    .dataframe thead tr th {\n",
       "        text-align: left;\n",
       "    }\n",
       "\n",
       "    .dataframe thead tr:last-of-type th {\n",
       "        text-align: right;\n",
       "    }\n",
       "</style>\n",
       "<table border=\"1\" class=\"dataframe\">\n",
       "  <thead>\n",
       "    <tr>\n",
       "      <th></th>\n",
       "      <th colspan=\"4\" halign=\"left\">Recency</th>\n",
       "      <th colspan=\"4\" halign=\"left\">Frequency</th>\n",
       "      <th colspan=\"4\" halign=\"left\">Monetary</th>\n",
       "    </tr>\n",
       "    <tr>\n",
       "      <th></th>\n",
       "      <th>mean</th>\n",
       "      <th>min</th>\n",
       "      <th>max</th>\n",
       "      <th>count</th>\n",
       "      <th>mean</th>\n",
       "      <th>min</th>\n",
       "      <th>max</th>\n",
       "      <th>count</th>\n",
       "      <th>mean</th>\n",
       "      <th>min</th>\n",
       "      <th>max</th>\n",
       "      <th>count</th>\n",
       "    </tr>\n",
       "    <tr>\n",
       "      <th>RFM Score</th>\n",
       "      <th></th>\n",
       "      <th></th>\n",
       "      <th></th>\n",
       "      <th></th>\n",
       "      <th></th>\n",
       "      <th></th>\n",
       "      <th></th>\n",
       "      <th></th>\n",
       "      <th></th>\n",
       "      <th></th>\n",
       "      <th></th>\n",
       "      <th></th>\n",
       "    </tr>\n",
       "  </thead>\n",
       "  <tbody>\n",
       "    <tr>\n",
       "      <th>111</th>\n",
       "      <td>34.0</td>\n",
       "      <td>28</td>\n",
       "      <td>40</td>\n",
       "      <td>942</td>\n",
       "      <td>1.0</td>\n",
       "      <td>1.0</td>\n",
       "      <td>1.0</td>\n",
       "      <td>942</td>\n",
       "      <td>14.7</td>\n",
       "      <td>0.5</td>\n",
       "      <td>24.5</td>\n",
       "      <td>942</td>\n",
       "    </tr>\n",
       "    <tr>\n",
       "      <th>112</th>\n",
       "      <td>34.3</td>\n",
       "      <td>29</td>\n",
       "      <td>40</td>\n",
       "      <td>824</td>\n",
       "      <td>1.0</td>\n",
       "      <td>1.0</td>\n",
       "      <td>1.0</td>\n",
       "      <td>824</td>\n",
       "      <td>32.6</td>\n",
       "      <td>25.0</td>\n",
       "      <td>41.0</td>\n",
       "      <td>824</td>\n",
       "    </tr>\n",
       "    <tr>\n",
       "      <th>113</th>\n",
       "      <td>34.3</td>\n",
       "      <td>29</td>\n",
       "      <td>40</td>\n",
       "      <td>682</td>\n",
       "      <td>1.0</td>\n",
       "      <td>1.0</td>\n",
       "      <td>1.0</td>\n",
       "      <td>682</td>\n",
       "      <td>52.6</td>\n",
       "      <td>41.5</td>\n",
       "      <td>68.5</td>\n",
       "      <td>682</td>\n",
       "    </tr>\n",
       "    <tr>\n",
       "      <th>114</th>\n",
       "      <td>34.2</td>\n",
       "      <td>28</td>\n",
       "      <td>40</td>\n",
       "      <td>582</td>\n",
       "      <td>1.0</td>\n",
       "      <td>1.0</td>\n",
       "      <td>1.0</td>\n",
       "      <td>582</td>\n",
       "      <td>92.5</td>\n",
       "      <td>69.5</td>\n",
       "      <td>130.5</td>\n",
       "      <td>582</td>\n",
       "    </tr>\n",
       "    <tr>\n",
       "      <th>115</th>\n",
       "      <td>33.9</td>\n",
       "      <td>29</td>\n",
       "      <td>40</td>\n",
       "      <td>250</td>\n",
       "      <td>1.0</td>\n",
       "      <td>1.0</td>\n",
       "      <td>1.0</td>\n",
       "      <td>250</td>\n",
       "      <td>244.8</td>\n",
       "      <td>131.0</td>\n",
       "      <td>1494.5</td>\n",
       "      <td>250</td>\n",
       "    </tr>\n",
       "  </tbody>\n",
       "</table>\n",
       "</div>"
      ],
      "text/plain": [
       "          Recency               Frequency                 Monetary         \\\n",
       "             mean min max count      mean  min  max count     mean    min   \n",
       "RFM Score                                                                   \n",
       "111          34.0  28  40   942       1.0  1.0  1.0   942     14.7    0.5   \n",
       "112          34.3  29  40   824       1.0  1.0  1.0   824     32.6   25.0   \n",
       "113          34.3  29  40   682       1.0  1.0  1.0   682     52.6   41.5   \n",
       "114          34.2  28  40   582       1.0  1.0  1.0   582     92.5   69.5   \n",
       "115          33.9  29  40   250       1.0  1.0  1.0   250    244.8  131.0   \n",
       "\n",
       "                         \n",
       "              max count  \n",
       "RFM Score                \n",
       "111          24.5   942  \n",
       "112          41.0   824  \n",
       "113          68.5   682  \n",
       "114         130.5   582  \n",
       "115        1494.5   250  "
      ]
     },
     "execution_count": 22,
     "metadata": {},
     "output_type": "execute_result"
    }
   ],
   "source": [
    "#degerlerin iceriklerini inceliyoruz\n",
    "rfm_table.groupby('RFM Score').agg({\n",
    "    'Recency': ['mean','min','max','count'],\n",
    "    'Frequency':['mean','min','max','count'],\n",
    "    'Monetary':['mean','min','max','count'] }).round(1).head()\n"
   ]
  },
  {
   "cell_type": "code",
   "execution_count": 24,
   "id": "701ee6a6",
   "metadata": {},
   "outputs": [
    {
     "data": {
      "text/plain": [
       "RFM Score\n",
       "511    1380\n",
       "155    1346\n",
       "412    1200\n",
       "311    1188\n",
       "411    1155\n",
       "512    1150\n",
       "513    1117\n",
       "312    1084\n",
       "212    1071\n",
       "413    1070\n",
       "313     985\n",
       "514     947\n",
       "111     942\n",
       "213     899\n",
       "414     858\n",
       "211     857\n",
       "112     824\n",
       "214     806\n",
       "314     801\n",
       "255     752\n",
       "dtype: int64"
      ]
     },
     "execution_count": 24,
     "metadata": {},
     "output_type": "execute_result"
    }
   ],
   "source": [
    "rfm_table.groupby('RFM Score').size().sort_values(ascending=False)[:20]"
   ]
  },
  {
   "cell_type": "code",
   "execution_count": 29,
   "id": "d7823a06",
   "metadata": {},
   "outputs": [
    {
     "data": {
      "image/png": "[encoded data removed]",
      "text/plain": [
       "<Figure size 432x432 with 1 Axes>"
      ]
     },
     "metadata": {
      "needs_background": "light"
     },
     "output_type": "display_data"
    }
   ],
   "source": [
    "plt.figure(figsize=(6,6))\n",
    "sns.countplot(x='Freq_Tile', data=rfm_table)\n",
    "plt.ylabel('Count',fontsize=12)\n",
    "plt.xlabel('Freq_Flag',fontsize=12)\n",
    "plt.xticks(rotation='vertical')\n",
    "plt.title('Frequency of Freq_Flag', fontsize=15)\n",
    "plt.show()\n",
    "\n",
    "\n",
    "\n"
   ]
  },
  {
   "cell_type": "code",
   "execution_count": 32,
   "id": "0b6cb4fa",
   "metadata": {},
   "outputs": [
    {
     "name": "stderr",
     "output_type": "stream",
     "text": [
      "C:\\Users\\33758\\anaconda3\\lib\\site-packages\\seaborn\\distributions.py:2557: FutureWarning: `distplot` is a deprecated function and will be removed in a future version. Please adapt your code to use either `displot` (a figure-level function with similar flexibility) or `histplot` (an axes-level function for histograms).\n",
      "  warnings.warn(msg, FutureWarning)\n"
     ]
    },
    {
     "data": {
      "image/png": "[encoded data removed]",
      "text/plain": [
       "<Figure size 720x432 with 1 Axes>"
      ]
     },
     "metadata": {
      "needs_background": "light"
     },
     "output_type": "display_data"
    }
   ],
   "source": [
    "sns.distplot(rfm_table['Recency'])\n",
    "plt.show()   \n",
    "\n",
    "  \n"
   ]
  },
  {
   "cell_type": "code",
   "execution_count": 33,
   "id": "c9df7903",
   "metadata": {},
   "outputs": [
    {
     "name": "stderr",
     "output_type": "stream",
     "text": [
      "C:\\Users\\33758\\anaconda3\\lib\\site-packages\\seaborn\\distributions.py:2557: FutureWarning: `distplot` is a deprecated function and will be removed in a future version. Please adapt your code to use either `displot` (a figure-level function with similar flexibility) or `histplot` (an axes-level function for histograms).\n",
      "  warnings.warn(msg, FutureWarning)\n"
     ]
    },
    {
     "data": {
      "image/png": "[encoded data removed]",
      "text/plain": [
       "<Figure size 720x432 with 1 Axes>"
      ]
     },
     "metadata": {
      "needs_background": "light"
     },
     "output_type": "display_data"
    }
   ],
   "source": [
    "sns.distplot(rfm_table['Frequency'])\n",
    "plt.show()   \n"
   ]
  },
  {
   "cell_type": "code",
   "execution_count": 34,
   "id": "fabc3862",
   "metadata": {},
   "outputs": [
    {
     "name": "stderr",
     "output_type": "stream",
     "text": [
      "C:\\Users\\33758\\anaconda3\\lib\\site-packages\\seaborn\\distributions.py:2557: FutureWarning: `distplot` is a deprecated function and will be removed in a future version. Please adapt your code to use either `displot` (a figure-level function with similar flexibility) or `histplot` (an axes-level function for histograms).\n",
      "  warnings.warn(msg, FutureWarning)\n"
     ]
    },
    {
     "data": {
      "image/png": "[encoded data removed]",
      "text/plain": [
       "<Figure size 720x432 with 1 Axes>"
      ]
     },
     "metadata": {
      "needs_background": "light"
     },
     "output_type": "display_data"
    }
   ],
   "source": [
    "sns.distplot(rfm_table['Monetary'])\n",
    "plt.show()   \n"
   ]
  },
  {
   "cell_type": "code",
   "execution_count": 35,
   "id": "cc032593",
   "metadata": {},
   "outputs": [
    {
     "data": {
      "text/html": [
       "<div>\n",
       "<style scoped>\n",
       "    .dataframe tbody tr th:only-of-type {\n",
       "        vertical-align: middle;\n",
       "    }\n",
       "\n",
       "    .dataframe tbody tr th {\n",
       "        vertical-align: top;\n",
       "    }\n",
       "\n",
       "    .dataframe thead th {\n",
       "        text-align: right;\n",
       "    }\n",
       "</style>\n",
       "<table border=\"1\" class=\"dataframe\">\n",
       "  <thead>\n",
       "    <tr style=\"text-align: right;\">\n",
       "      <th></th>\n",
       "      <th>Monetary</th>\n",
       "      <th>Recency</th>\n",
       "      <th>Frequency</th>\n",
       "      <th>Freq_Tile</th>\n",
       "      <th>Rec_Tile</th>\n",
       "      <th>Mone_Tile</th>\n",
       "      <th>RFM Score</th>\n",
       "    </tr>\n",
       "    <tr>\n",
       "      <th>Main_ID</th>\n",
       "      <th></th>\n",
       "      <th></th>\n",
       "      <th></th>\n",
       "      <th></th>\n",
       "      <th></th>\n",
       "      <th></th>\n",
       "      <th></th>\n",
       "    </tr>\n",
       "  </thead>\n",
       "  <tbody>\n",
       "    <tr>\n",
       "      <th>6558ca78</th>\n",
       "      <td>208.5</td>\n",
       "      <td>28</td>\n",
       "      <td>8.0</td>\n",
       "      <td>5</td>\n",
       "      <td>1</td>\n",
       "      <td>5</td>\n",
       "      <td>155</td>\n",
       "    </tr>\n",
       "    <tr>\n",
       "      <th>80851dc3</th>\n",
       "      <td>24.5</td>\n",
       "      <td>28</td>\n",
       "      <td>1.0</td>\n",
       "      <td>1</td>\n",
       "      <td>1</td>\n",
       "      <td>1</td>\n",
       "      <td>111</td>\n",
       "    </tr>\n",
       "    <tr>\n",
       "      <th>387aecb7</th>\n",
       "      <td>83.5</td>\n",
       "      <td>28</td>\n",
       "      <td>1.0</td>\n",
       "      <td>1</td>\n",
       "      <td>1</td>\n",
       "      <td>4</td>\n",
       "      <td>114</td>\n",
       "    </tr>\n",
       "    <tr>\n",
       "      <th>a70f5f11</th>\n",
       "      <td>412.0</td>\n",
       "      <td>28</td>\n",
       "      <td>4.0</td>\n",
       "      <td>5</td>\n",
       "      <td>1</td>\n",
       "      <td>5</td>\n",
       "      <td>155</td>\n",
       "    </tr>\n",
       "    <tr>\n",
       "      <th>27aa514e</th>\n",
       "      <td>2426.5</td>\n",
       "      <td>28</td>\n",
       "      <td>12.0</td>\n",
       "      <td>5</td>\n",
       "      <td>1</td>\n",
       "      <td>5</td>\n",
       "      <td>155</td>\n",
       "    </tr>\n",
       "  </tbody>\n",
       "</table>\n",
       "</div>"
      ],
      "text/plain": [
       "          Monetary  Recency  Frequency  Freq_Tile  Rec_Tile  Mone_Tile  \\\n",
       "Main_ID                                                                  \n",
       "6558ca78     208.5       28        8.0          5         1          5   \n",
       "80851dc3      24.5       28        1.0          1         1          1   \n",
       "387aecb7      83.5       28        1.0          1         1          4   \n",
       "a70f5f11     412.0       28        4.0          5         1          5   \n",
       "27aa514e    2426.5       28       12.0          5         1          5   \n",
       "\n",
       "         RFM Score  \n",
       "Main_ID             \n",
       "6558ca78       155  \n",
       "80851dc3       111  \n",
       "387aecb7       114  \n",
       "a70f5f11       155  \n",
       "27aa514e       155  "
      ]
     },
     "execution_count": 35,
     "metadata": {},
     "output_type": "execute_result"
    }
   ],
   "source": [
    "rfm_table.head()"
   ]
  },
  {
   "cell_type": "code",
   "execution_count": 36,
   "id": "5b9f2a70",
   "metadata": {},
   "outputs": [],
   "source": [
    "clus= rfm_table[['Monetary','Recency','Frequency']]"
   ]
  },
  {
   "cell_type": "code",
   "execution_count": 37,
   "id": "eb2c80dc",
   "metadata": {},
   "outputs": [
    {
     "data": {
      "text/html": [
       "<div>\n",
       "<style scoped>\n",
       "    .dataframe tbody tr th:only-of-type {\n",
       "        vertical-align: middle;\n",
       "    }\n",
       "\n",
       "    .dataframe tbody tr th {\n",
       "        vertical-align: top;\n",
       "    }\n",
       "\n",
       "    .dataframe thead th {\n",
       "        text-align: right;\n",
       "    }\n",
       "</style>\n",
       "<table border=\"1\" class=\"dataframe\">\n",
       "  <thead>\n",
       "    <tr style=\"text-align: right;\">\n",
       "      <th></th>\n",
       "      <th>Monetary</th>\n",
       "      <th>Recency</th>\n",
       "      <th>Frequency</th>\n",
       "    </tr>\n",
       "    <tr>\n",
       "      <th>Main_ID</th>\n",
       "      <th></th>\n",
       "      <th></th>\n",
       "      <th></th>\n",
       "    </tr>\n",
       "  </thead>\n",
       "  <tbody>\n",
       "    <tr>\n",
       "      <th>6558ca78</th>\n",
       "      <td>208.5</td>\n",
       "      <td>28</td>\n",
       "      <td>8.0</td>\n",
       "    </tr>\n",
       "    <tr>\n",
       "      <th>80851dc3</th>\n",
       "      <td>24.5</td>\n",
       "      <td>28</td>\n",
       "      <td>1.0</td>\n",
       "    </tr>\n",
       "    <tr>\n",
       "      <th>387aecb7</th>\n",
       "      <td>83.5</td>\n",
       "      <td>28</td>\n",
       "      <td>1.0</td>\n",
       "    </tr>\n",
       "    <tr>\n",
       "      <th>a70f5f11</th>\n",
       "      <td>412.0</td>\n",
       "      <td>28</td>\n",
       "      <td>4.0</td>\n",
       "    </tr>\n",
       "    <tr>\n",
       "      <th>27aa514e</th>\n",
       "      <td>2426.5</td>\n",
       "      <td>28</td>\n",
       "      <td>12.0</td>\n",
       "    </tr>\n",
       "  </tbody>\n",
       "</table>\n",
       "</div>"
      ],
      "text/plain": [
       "          Monetary  Recency  Frequency\n",
       "Main_ID                               \n",
       "6558ca78     208.5       28        8.0\n",
       "80851dc3      24.5       28        1.0\n",
       "387aecb7      83.5       28        1.0\n",
       "a70f5f11     412.0       28        4.0\n",
       "27aa514e    2426.5       28       12.0"
      ]
     },
     "execution_count": 37,
     "metadata": {},
     "output_type": "execute_result"
    }
   ],
   "source": [
    "clus.head()"
   ]
  },
  {
   "cell_type": "code",
   "execution_count": 38,
   "id": "b50b0bfb",
   "metadata": {},
   "outputs": [
    {
     "data": {
      "text/html": [
       "<div>\n",
       "<style scoped>\n",
       "    .dataframe tbody tr th:only-of-type {\n",
       "        vertical-align: middle;\n",
       "    }\n",
       "\n",
       "    .dataframe tbody tr th {\n",
       "        vertical-align: top;\n",
       "    }\n",
       "\n",
       "    .dataframe thead th {\n",
       "        text-align: right;\n",
       "    }\n",
       "</style>\n",
       "<table border=\"1\" class=\"dataframe\">\n",
       "  <thead>\n",
       "    <tr style=\"text-align: right;\">\n",
       "      <th></th>\n",
       "      <th>Monetary</th>\n",
       "      <th>Recency</th>\n",
       "      <th>Frequency</th>\n",
       "    </tr>\n",
       "    <tr>\n",
       "      <th>Main_ID</th>\n",
       "      <th></th>\n",
       "      <th></th>\n",
       "      <th></th>\n",
       "    </tr>\n",
       "  </thead>\n",
       "  <tbody>\n",
       "    <tr>\n",
       "      <th>6558ca78</th>\n",
       "      <td>208.5</td>\n",
       "      <td>28</td>\n",
       "      <td>8.0</td>\n",
       "    </tr>\n",
       "    <tr>\n",
       "      <th>80851dc3</th>\n",
       "      <td>24.5</td>\n",
       "      <td>28</td>\n",
       "      <td>1.0</td>\n",
       "    </tr>\n",
       "    <tr>\n",
       "      <th>387aecb7</th>\n",
       "      <td>83.5</td>\n",
       "      <td>28</td>\n",
       "      <td>1.0</td>\n",
       "    </tr>\n",
       "    <tr>\n",
       "      <th>a70f5f11</th>\n",
       "      <td>412.0</td>\n",
       "      <td>28</td>\n",
       "      <td>4.0</td>\n",
       "    </tr>\n",
       "    <tr>\n",
       "      <th>27aa514e</th>\n",
       "      <td>2426.5</td>\n",
       "      <td>28</td>\n",
       "      <td>12.0</td>\n",
       "    </tr>\n",
       "  </tbody>\n",
       "</table>\n",
       "</div>"
      ],
      "text/plain": [
       "          Monetary  Recency  Frequency\n",
       "Main_ID                               \n",
       "6558ca78     208.5       28        8.0\n",
       "80851dc3      24.5       28        1.0\n",
       "387aecb7      83.5       28        1.0\n",
       "a70f5f11     412.0       28        4.0\n",
       "27aa514e    2426.5       28       12.0"
      ]
     },
     "execution_count": 38,
     "metadata": {},
     "output_type": "execute_result"
    }
   ],
   "source": [
    "clusterdata=clus.iloc[:,0:4]\n",
    "clusterdata.head()"
   ]
  },
  {
   "cell_type": "code",
   "execution_count": 44,
   "id": "84f5c204",
   "metadata": {},
   "outputs": [],
   "source": [
    "from sklearn.preprocessing import MinMaxScaler\n",
    "min_max_scaler= MinMaxScaler()\n",
    "x_scaled=min_max_scaler.fit_transform(clus)\n",
    "data_scaled2= pd.DataFrame(x_scaled)\n",
    "# Virgülden sonra 4 basamak gösterme ayarı\n",
    "pd.set_option('display.float_format', lambda x: '{:.4f}'.format(x))"
   ]
  },
  {
   "cell_type": "code",
   "execution_count": 45,
   "id": "140ec2eb",
   "metadata": {},
   "outputs": [
    {
     "data": {
      "text/html": [
       "<div>\n",
       "<style scoped>\n",
       "    .dataframe tbody tr th:only-of-type {\n",
       "        vertical-align: middle;\n",
       "    }\n",
       "\n",
       "    .dataframe tbody tr th {\n",
       "        vertical-align: top;\n",
       "    }\n",
       "\n",
       "    .dataframe thead th {\n",
       "        text-align: right;\n",
       "    }\n",
       "</style>\n",
       "<table border=\"1\" class=\"dataframe\">\n",
       "  <thead>\n",
       "    <tr style=\"text-align: right;\">\n",
       "      <th></th>\n",
       "      <th>0</th>\n",
       "      <th>1</th>\n",
       "      <th>2</th>\n",
       "    </tr>\n",
       "  </thead>\n",
       "  <tbody>\n",
       "    <tr>\n",
       "      <th>0</th>\n",
       "      <td>0.0040</td>\n",
       "      <td>0.0000</td>\n",
       "      <td>0.1400</td>\n",
       "    </tr>\n",
       "    <tr>\n",
       "      <th>1</th>\n",
       "      <td>0.0005</td>\n",
       "      <td>0.0000</td>\n",
       "      <td>0.0000</td>\n",
       "    </tr>\n",
       "    <tr>\n",
       "      <th>2</th>\n",
       "      <td>0.0016</td>\n",
       "      <td>0.0000</td>\n",
       "      <td>0.0000</td>\n",
       "    </tr>\n",
       "    <tr>\n",
       "      <th>3</th>\n",
       "      <td>0.0078</td>\n",
       "      <td>0.0000</td>\n",
       "      <td>0.0600</td>\n",
       "    </tr>\n",
       "    <tr>\n",
       "      <th>4</th>\n",
       "      <td>0.0461</td>\n",
       "      <td>0.0000</td>\n",
       "      <td>0.2200</td>\n",
       "    </tr>\n",
       "  </tbody>\n",
       "</table>\n",
       "</div>"
      ],
      "text/plain": [
       "       0      1      2\n",
       "0 0.0040 0.0000 0.1400\n",
       "1 0.0005 0.0000 0.0000\n",
       "2 0.0016 0.0000 0.0000\n",
       "3 0.0078 0.0000 0.0600\n",
       "4 0.0461 0.0000 0.2200"
      ]
     },
     "execution_count": 45,
     "metadata": {},
     "output_type": "execute_result"
    }
   ],
   "source": [
    "data_scaled2.head()"
   ]
  },
  {
   "cell_type": "code",
   "execution_count": 46,
   "id": "aed301b9",
   "metadata": {},
   "outputs": [],
   "source": [
    "# Virgülden sonra 2 basamak gösterme ayarı\n",
    "pd.set_option('display.float_format', lambda x: '{:.2f}'.format(x))"
   ]
  },
  {
   "cell_type": "code",
   "execution_count": 47,
   "id": "700563eb",
   "metadata": {},
   "outputs": [
    {
     "data": {
      "text/html": [
       "<div>\n",
       "<style scoped>\n",
       "    .dataframe tbody tr th:only-of-type {\n",
       "        vertical-align: middle;\n",
       "    }\n",
       "\n",
       "    .dataframe tbody tr th {\n",
       "        vertical-align: top;\n",
       "    }\n",
       "\n",
       "    .dataframe thead th {\n",
       "        text-align: right;\n",
       "    }\n",
       "</style>\n",
       "<table border=\"1\" class=\"dataframe\">\n",
       "  <thead>\n",
       "    <tr style=\"text-align: right;\">\n",
       "      <th></th>\n",
       "      <th>0</th>\n",
       "      <th>1</th>\n",
       "      <th>2</th>\n",
       "    </tr>\n",
       "  </thead>\n",
       "  <tbody>\n",
       "    <tr>\n",
       "      <th>0</th>\n",
       "      <td>0.00</td>\n",
       "      <td>0.00</td>\n",
       "      <td>0.14</td>\n",
       "    </tr>\n",
       "    <tr>\n",
       "      <th>1</th>\n",
       "      <td>0.00</td>\n",
       "      <td>0.00</td>\n",
       "      <td>0.00</td>\n",
       "    </tr>\n",
       "    <tr>\n",
       "      <th>2</th>\n",
       "      <td>0.00</td>\n",
       "      <td>0.00</td>\n",
       "      <td>0.00</td>\n",
       "    </tr>\n",
       "    <tr>\n",
       "      <th>3</th>\n",
       "      <td>0.01</td>\n",
       "      <td>0.00</td>\n",
       "      <td>0.06</td>\n",
       "    </tr>\n",
       "    <tr>\n",
       "      <th>4</th>\n",
       "      <td>0.05</td>\n",
       "      <td>0.00</td>\n",
       "      <td>0.22</td>\n",
       "    </tr>\n",
       "  </tbody>\n",
       "</table>\n",
       "</div>"
      ],
      "text/plain": [
       "     0    1    2\n",
       "0 0.00 0.00 0.14\n",
       "1 0.00 0.00 0.00\n",
       "2 0.00 0.00 0.00\n",
       "3 0.01 0.00 0.06\n",
       "4 0.05 0.00 0.22"
      ]
     },
     "execution_count": 47,
     "metadata": {},
     "output_type": "execute_result"
    }
   ],
   "source": [
    "data_scaled2.head()"
   ]
  },
  {
   "cell_type": "code",
   "execution_count": 50,
   "id": "3530795b",
   "metadata": {},
   "outputs": [
    {
     "data": {
      "text/html": [
       "<div>\n",
       "<style scoped>\n",
       "    .dataframe tbody tr th:only-of-type {\n",
       "        vertical-align: middle;\n",
       "    }\n",
       "\n",
       "    .dataframe tbody tr th {\n",
       "        vertical-align: top;\n",
       "    }\n",
       "\n",
       "    .dataframe thead th {\n",
       "        text-align: right;\n",
       "    }\n",
       "</style>\n",
       "<table border=\"1\" class=\"dataframe\">\n",
       "  <thead>\n",
       "    <tr style=\"text-align: right;\">\n",
       "      <th></th>\n",
       "      <th>count</th>\n",
       "      <th>mean</th>\n",
       "      <th>std</th>\n",
       "      <th>min</th>\n",
       "      <th>25%</th>\n",
       "      <th>50%</th>\n",
       "      <th>75%</th>\n",
       "      <th>max</th>\n",
       "    </tr>\n",
       "  </thead>\n",
       "  <tbody>\n",
       "    <tr>\n",
       "      <th>0</th>\n",
       "      <td>28514.00000000</td>\n",
       "      <td>0.00296297</td>\n",
       "      <td>0.01407280</td>\n",
       "      <td>0.00000000</td>\n",
       "      <td>0.00054148</td>\n",
       "      <td>0.00099745</td>\n",
       "      <td>0.00200441</td>\n",
       "      <td>1.00000000</td>\n",
       "    </tr>\n",
       "    <tr>\n",
       "      <th>1</th>\n",
       "      <td>28514.00000000</td>\n",
       "      <td>0.41571923</td>\n",
       "      <td>0.28164420</td>\n",
       "      <td>0.00000000</td>\n",
       "      <td>0.17171717</td>\n",
       "      <td>0.38383838</td>\n",
       "      <td>0.63636364</td>\n",
       "      <td>1.00000000</td>\n",
       "    </tr>\n",
       "    <tr>\n",
       "      <th>2</th>\n",
       "      <td>28514.00000000</td>\n",
       "      <td>0.01507049</td>\n",
       "      <td>0.04613004</td>\n",
       "      <td>0.00000000</td>\n",
       "      <td>0.00000000</td>\n",
       "      <td>0.00000000</td>\n",
       "      <td>0.02000000</td>\n",
       "      <td>1.00000000</td>\n",
       "    </tr>\n",
       "  </tbody>\n",
       "</table>\n",
       "</div>"
      ],
      "text/plain": [
       "           count       mean        std        min        25%        50%  \\\n",
       "0 28514.00000000 0.00296297 0.01407280 0.00000000 0.00054148 0.00099745   \n",
       "1 28514.00000000 0.41571923 0.28164420 0.00000000 0.17171717 0.38383838   \n",
       "2 28514.00000000 0.01507049 0.04613004 0.00000000 0.00000000 0.00000000   \n",
       "\n",
       "         75%        max  \n",
       "0 0.00200441 1.00000000  \n",
       "1 0.63636364 1.00000000  \n",
       "2 0.02000000 1.00000000  "
      ]
     },
     "execution_count": 50,
     "metadata": {},
     "output_type": "execute_result"
    }
   ],
   "source": [
    "data_scaled2.describe().T"
   ]
  },
  {
   "cell_type": "code",
   "execution_count": 51,
   "id": "0014cf18",
   "metadata": {},
   "outputs": [],
   "source": [
    "?KMeans"
   ]
  },
  {
   "cell_type": "code",
   "execution_count": 53,
   "id": "45510f4f",
   "metadata": {},
   "outputs": [
    {
     "data": {
      "image/png": "[encoded data removed]",
      "text/plain": [
       "<Figure size 576x432 with 1 Axes>"
      ]
     },
     "metadata": {
      "needs_background": "light"
     },
     "output_type": "display_data"
    }
   ],
   "source": [
    "plt.figure(figsize=(8,6))\n",
    "wcss=[]\n",
    "for i in range(1,11):\n",
    "    kmeans=KMeans(n_clusters=i, init='k-means++',n_init=10, max_iter=300)\n",
    "    kmeans.fit(data_scaled2)\n",
    "    wcss.append(kmeans.inertia_)\n",
    "plt.plot(range(1,11), wcss)\n",
    "plt.title('The Elbow Method')\n",
    "plt.xlabel('number of clusters')\n",
    "plt.ylabel('wcss')\n",
    "plt.show()\n"
   ]
  },
  {
   "cell_type": "code",
   "execution_count": 55,
   "id": "7c32704f",
   "metadata": {},
   "outputs": [
    {
     "name": "stdout",
     "output_type": "stream",
     "text": [
      "[0.467980804327786]\n",
      "[0.467980804327786, 0.47567341430395754]\n",
      "[0.467980804327786, 0.47567341430395754, 0.4715499574535429]\n",
      "[0.467980804327786, 0.47567341430395754, 0.4715499574535429, 0.47471946141543103]\n",
      "[0.467980804327786, 0.47567341430395754, 0.4715499574535429, 0.47471946141543103, 0.47033929713185396]\n",
      "[0.467980804327786, 0.47567341430395754, 0.4715499574535429, 0.47471946141543103, 0.47033929713185396, 0.4722363091279877]\n",
      "[0.467980804327786, 0.47567341430395754, 0.4715499574535429, 0.47471946141543103, 0.47033929713185396, 0.4722363091279877, 0.4729270934036431]\n",
      "[0.467980804327786, 0.47567341430395754, 0.4715499574535429, 0.47471946141543103, 0.47033929713185396, 0.4722363091279877, 0.4729270934036431, 0.4835811718922774]\n"
     ]
    }
   ],
   "source": [
    "from sklearn.metrics import silhouette_score\n",
    "inertia_list=[]\n",
    "silhouette_score_list=[]\n",
    "for i in range (2,10):\n",
    "    #kmeans=KMeans(n_clusters=i, init='k-means++',n_init=10, max_iter=300)\n",
    "    kmeans.fit(data_scaled2)\n",
    "    silhouette_score_list.append(silhouette_score(data_scaled2,kmeans.labels_))\n",
    "    print(silhouette_score_list)\n",
    "    \n",
    "\n",
    "\n"
   ]
  },
  {
   "cell_type": "code",
   "execution_count": 56,
   "id": "d677c05d",
   "metadata": {},
   "outputs": [],
   "source": [
    "#kmeans using 4 clusters and k-means++ initialization\n",
    "kmeans= KMeans(n_clusters=i, init='k-means++',n_init=10, max_iter=300)\n",
    "kmeans.fit(data_scaled2)\n",
    "pred=kmeans.predict(data_scaled2)"
   ]
  },
  {
   "cell_type": "code",
   "execution_count": 59,
   "id": "803018f3",
   "metadata": {},
   "outputs": [
    {
     "data": {
      "text/plain": [
       "4    4958\n",
       "0    4209\n",
       "1    4020\n",
       "5    3805\n",
       "3    3497\n",
       "7    3173\n",
       "2    2196\n",
       "8    2104\n",
       "6     552\n",
       "Name: cluster, dtype: int64"
      ]
     },
     "execution_count": 59,
     "metadata": {},
     "output_type": "execute_result"
    }
   ],
   "source": [
    "d_frame=pd.DataFrame(clus)\n",
    "d_frame['cluster']=pred\n",
    "d_frame['cluster'].value_counts()"
   ]
  },
  {
   "cell_type": "code",
   "execution_count": 60,
   "id": "3a9dd49e",
   "metadata": {},
   "outputs": [
    {
     "data": {
      "text/html": [
       "<div>\n",
       "<style scoped>\n",
       "    .dataframe tbody tr th:only-of-type {\n",
       "        vertical-align: middle;\n",
       "    }\n",
       "\n",
       "    .dataframe tbody tr th {\n",
       "        vertical-align: top;\n",
       "    }\n",
       "\n",
       "    .dataframe thead th {\n",
       "        text-align: right;\n",
       "    }\n",
       "</style>\n",
       "<table border=\"1\" class=\"dataframe\">\n",
       "  <thead>\n",
       "    <tr style=\"text-align: right;\">\n",
       "      <th></th>\n",
       "      <th>Monetary</th>\n",
       "      <th>Recency</th>\n",
       "      <th>Frequency</th>\n",
       "      <th>cluster</th>\n",
       "    </tr>\n",
       "    <tr>\n",
       "      <th>Main_ID</th>\n",
       "      <th></th>\n",
       "      <th></th>\n",
       "      <th></th>\n",
       "      <th></th>\n",
       "    </tr>\n",
       "  </thead>\n",
       "  <tbody>\n",
       "    <tr>\n",
       "      <th>6558ca78</th>\n",
       "      <td>208.50000000</td>\n",
       "      <td>28</td>\n",
       "      <td>8.00000000</td>\n",
       "      <td>4</td>\n",
       "    </tr>\n",
       "    <tr>\n",
       "      <th>80851dc3</th>\n",
       "      <td>24.50000000</td>\n",
       "      <td>28</td>\n",
       "      <td>1.00000000</td>\n",
       "      <td>4</td>\n",
       "    </tr>\n",
       "    <tr>\n",
       "      <th>387aecb7</th>\n",
       "      <td>83.50000000</td>\n",
       "      <td>28</td>\n",
       "      <td>1.00000000</td>\n",
       "      <td>4</td>\n",
       "    </tr>\n",
       "    <tr>\n",
       "      <th>a70f5f11</th>\n",
       "      <td>412.00000000</td>\n",
       "      <td>28</td>\n",
       "      <td>4.00000000</td>\n",
       "      <td>4</td>\n",
       "    </tr>\n",
       "    <tr>\n",
       "      <th>27aa514e</th>\n",
       "      <td>2426.50000000</td>\n",
       "      <td>28</td>\n",
       "      <td>12.00000000</td>\n",
       "      <td>6</td>\n",
       "    </tr>\n",
       "  </tbody>\n",
       "</table>\n",
       "</div>"
      ],
      "text/plain": [
       "              Monetary  Recency   Frequency  cluster\n",
       "Main_ID                                             \n",
       "6558ca78  208.50000000       28  8.00000000        4\n",
       "80851dc3   24.50000000       28  1.00000000        4\n",
       "387aecb7   83.50000000       28  1.00000000        4\n",
       "a70f5f11  412.00000000       28  4.00000000        4\n",
       "27aa514e 2426.50000000       28 12.00000000        6"
      ]
     },
     "execution_count": 60,
     "metadata": {},
     "output_type": "execute_result"
    }
   ],
   "source": [
    "d_frame.head()"
   ]
  },
  {
   "cell_type": "code",
   "execution_count": 62,
   "id": "24819822",
   "metadata": {},
   "outputs": [
    {
     "data": {
      "text/html": [
       "<div>\n",
       "<style scoped>\n",
       "    .dataframe tbody tr th:only-of-type {\n",
       "        vertical-align: middle;\n",
       "    }\n",
       "\n",
       "    .dataframe tbody tr th {\n",
       "        vertical-align: top;\n",
       "    }\n",
       "\n",
       "    .dataframe thead th {\n",
       "        text-align: right;\n",
       "    }\n",
       "</style>\n",
       "<table border=\"1\" class=\"dataframe\">\n",
       "  <thead>\n",
       "    <tr style=\"text-align: right;\">\n",
       "      <th></th>\n",
       "      <th>Monetary</th>\n",
       "      <th>Recency</th>\n",
       "      <th>Frequency</th>\n",
       "    </tr>\n",
       "    <tr>\n",
       "      <th>cluster</th>\n",
       "      <th></th>\n",
       "      <th></th>\n",
       "      <th></th>\n",
       "    </tr>\n",
       "  </thead>\n",
       "  <tbody>\n",
       "    <tr>\n",
       "      <th>0</th>\n",
       "      <td>105.91981468</td>\n",
       "      <td>69.91161796</td>\n",
       "      <td>1.41268710</td>\n",
       "    </tr>\n",
       "    <tr>\n",
       "      <th>1</th>\n",
       "      <td>130.62300995</td>\n",
       "      <td>45.71169154</td>\n",
       "      <td>1.67412935</td>\n",
       "    </tr>\n",
       "    <tr>\n",
       "      <th>2</th>\n",
       "      <td>104.32786885</td>\n",
       "      <td>109.04280510</td>\n",
       "      <td>1.21083789</td>\n",
       "    </tr>\n",
       "    <tr>\n",
       "      <th>3</th>\n",
       "      <td>88.49399485</td>\n",
       "      <td>95.13525879</td>\n",
       "      <td>1.21904490</td>\n",
       "    </tr>\n",
       "    <tr>\n",
       "      <th>4</th>\n",
       "      <td>156.75534490</td>\n",
       "      <td>33.67002824</td>\n",
       "      <td>1.96208148</td>\n",
       "    </tr>\n",
       "    <tr>\n",
       "      <th>5</th>\n",
       "      <td>126.58948752</td>\n",
       "      <td>57.33823916</td>\n",
       "      <td>1.59868594</td>\n",
       "    </tr>\n",
       "    <tr>\n",
       "      <th>6</th>\n",
       "      <td>2228.31793478</td>\n",
       "      <td>35.59601449</td>\n",
       "      <td>14.44384058</td>\n",
       "    </tr>\n",
       "    <tr>\n",
       "      <th>7</th>\n",
       "      <td>90.77355815</td>\n",
       "      <td>82.29561929</td>\n",
       "      <td>1.34005673</td>\n",
       "    </tr>\n",
       "    <tr>\n",
       "      <th>8</th>\n",
       "      <td>83.02637833</td>\n",
       "      <td>121.61311787</td>\n",
       "      <td>1.12452471</td>\n",
       "    </tr>\n",
       "  </tbody>\n",
       "</table>\n",
       "</div>"
      ],
      "text/plain": [
       "             Monetary      Recency   Frequency\n",
       "cluster                                       \n",
       "0        105.91981468  69.91161796  1.41268710\n",
       "1        130.62300995  45.71169154  1.67412935\n",
       "2        104.32786885 109.04280510  1.21083789\n",
       "3         88.49399485  95.13525879  1.21904490\n",
       "4        156.75534490  33.67002824  1.96208148\n",
       "5        126.58948752  57.33823916  1.59868594\n",
       "6       2228.31793478  35.59601449 14.44384058\n",
       "7         90.77355815  82.29561929  1.34005673\n",
       "8         83.02637833 121.61311787  1.12452471"
      ]
     },
     "execution_count": 62,
     "metadata": {},
     "output_type": "execute_result"
    }
   ],
   "source": [
    "d_frame.groupby('cluster').mean()"
   ]
  },
  {
   "cell_type": "code",
   "execution_count": null,
   "id": "38a89a39",
   "metadata": {},
   "outputs": [],
   "source": [
    "#1 cluster 6 en cok siklikla ve cok harcama yapmis, VIP musterimiz diyebiliriz.. bircok pazarlama calismasi yapilabilir!\n",
    "#2 cluster 8 en az siklikla ve en az harcama ortalamasina sahip,\n",
    "## Recency degeri GUN sayisini belirtir. Verinin tarih araligina bakilirsa cluster 8 1 defa alisveris yapmis gibi."
   ]
  },
  {
   "cell_type": "markdown",
   "id": "3e5123d4",
   "metadata": {},
   "source": [
    "## Association Rules - Birliktelik Analizi"
   ]
  },
  {
   "cell_type": "code",
   "execution_count": 71,
   "id": "9571e25c",
   "metadata": {},
   "outputs": [
    {
     "name": "stdout",
     "output_type": "stream",
     "text": [
      "Requirement already satisfied: mlxtend in c:\\users\\33758\\appdata\\roaming\\python\\python38\\site-packages (0.22.0)\n",
      "Requirement already satisfied: setuptools in c:\\users\\33758\\anaconda3\\lib\\site-packages (from mlxtend) (52.0.0.post20210125)\n",
      "Requirement already satisfied: scipy>=1.2.1 in c:\\users\\33758\\anaconda3\\lib\\site-packages (from mlxtend) (1.6.2)\n",
      "Requirement already satisfied: pandas>=0.24.2 in c:\\users\\33758\\anaconda3\\lib\\site-packages (from mlxtend) (1.2.4)\n",
      "Requirement already satisfied: joblib>=0.13.2 in c:\\users\\33758\\anaconda3\\lib\\site-packages (from mlxtend) (1.2.0)\n",
      "Requirement already satisfied: matplotlib>=3.0.0 in c:\\users\\33758\\anaconda3\\lib\\site-packages (from mlxtend) (3.3.4)\n",
      "Requirement already satisfied: scikit-learn>=1.0.2 in c:\\users\\33758\\anaconda3\\lib\\site-packages (from mlxtend) (1.2.2)\n",
      "Requirement already satisfied: numpy>=1.16.2 in c:\\users\\33758\\anaconda3\\lib\\site-packages (from mlxtend) (1.20.1)\n",
      "Requirement already satisfied: pillow>=6.2.0 in c:\\users\\33758\\anaconda3\\lib\\site-packages (from matplotlib>=3.0.0->mlxtend) (8.2.0)\n",
      "Requirement already satisfied: pyparsing!=2.0.4,!=2.1.2,!=2.1.6,>=2.0.3 in c:\\users\\33758\\anaconda3\\lib\\site-packages (from matplotlib>=3.0.0->mlxtend) (2.4.7)\n",
      "Requirement already satisfied: kiwisolver>=1.0.1 in c:\\users\\33758\\anaconda3\\lib\\site-packages (from matplotlib>=3.0.0->mlxtend) (1.3.1)\n",
      "Requirement already satisfied: python-dateutil>=2.1 in c:\\users\\33758\\anaconda3\\lib\\site-packages (from matplotlib>=3.0.0->mlxtend) (2.8.1)\n",
      "Requirement already satisfied: cycler>=0.10 in c:\\users\\33758\\anaconda3\\lib\\site-packages (from matplotlib>=3.0.0->mlxtend) (0.10.0)\n",
      "Requirement already satisfied: six in c:\\users\\33758\\anaconda3\\lib\\site-packages (from cycler>=0.10->matplotlib>=3.0.0->mlxtend) (1.15.0)\n",
      "Requirement already satisfied: pytz>=2017.3 in c:\\users\\33758\\anaconda3\\lib\\site-packages (from pandas>=0.24.2->mlxtend) (2021.1)\n",
      "Requirement already satisfied: threadpoolctl>=2.0.0 in c:\\users\\33758\\anaconda3\\lib\\site-packages (from scikit-learn>=1.0.2->mlxtend) (2.1.0)\n"
     ]
    }
   ],
   "source": [
    "!pip install mlxtend --user"
   ]
  },
  {
   "cell_type": "code",
   "execution_count": 72,
   "id": "213b3da6",
   "metadata": {},
   "outputs": [
    {
     "ename": "ModuleNotFoundError",
     "evalue": "No module named 'mlxtend'",
     "output_type": "error",
     "traceback": [
      "\u001b[1;31m---------------------------------------------------------------------------\u001b[0m",
      "\u001b[1;31mModuleNotFoundError\u001b[0m                       Traceback (most recent call last)",
      "\u001b[1;32m<ipython-input-72-73c97be96c5f>\u001b[0m in \u001b[0;36m<module>\u001b[1;34m\u001b[0m\n\u001b[1;32m----> 1\u001b[1;33m \u001b[1;32mfrom\u001b[0m \u001b[0mmlxtend\u001b[0m\u001b[1;33m.\u001b[0m\u001b[0mfrequent_patterns\u001b[0m \u001b[1;32mimport\u001b[0m \u001b[0mapriori\u001b[0m\u001b[1;33m\u001b[0m\u001b[1;33m\u001b[0m\u001b[0m\n\u001b[0m\u001b[0;32m      2\u001b[0m \u001b[1;32mfrom\u001b[0m \u001b[0mmlxtend\u001b[0m\u001b[1;33m.\u001b[0m\u001b[0mfrequent_patterns\u001b[0m \u001b[1;32mimport\u001b[0m \u001b[0massociation_rules\u001b[0m\u001b[1;33m\u001b[0m\u001b[1;33m\u001b[0m\u001b[0m\n",
      "\u001b[1;31mModuleNotFoundError\u001b[0m: No module named 'mlxtend'"
     ]
    }
   ],
   "source": [
    "from mlxtend.frequent_patterns import apriori\n",
    "from mlxtend.frequent_patterns import association_rules"
   ]
  },
  {
   "cell_type": "code",
   "execution_count": null,
   "id": "4b5726e7",
   "metadata": {},
   "outputs": [],
   "source": []
  },
  {
   "cell_type": "code",
   "execution_count": null,
   "id": "34aef1cd",
   "metadata": {},
   "outputs": [],
   "source": []
  },
  {
   "cell_type": "code",
   "execution_count": null,
   "id": "96028698",
   "metadata": {},
   "outputs": [],
   "source": []
  },
  {
   "cell_type": "code",
   "execution_count": null,
   "id": "c3cb6914",
   "metadata": {},
   "outputs": [],
   "source": []
  },
  {
   "cell_type": "code",
   "execution_count": null,
   "id": "d74b5d47",
   "metadata": {},
   "outputs": [],
   "source": []
  }
 ],
 "metadata": {
  "kernelspec": {
   "display_name": "Python 3",
   "language": "python",
   "name": "python3"
  },
  "language_info": {
   "codemirror_mode": {
    "name": "ipython",
    "version": 3
   },
   "file_extension": ".py",
   "mimetype": "text/x-python",
   "name": "python",
   "nbconvert_exporter": "python",
   "pygments_lexer": "ipython3",
   "version": "3.8.8"
  }
 },
 "nbformat": 4,
 "nbformat_minor": 5
}
